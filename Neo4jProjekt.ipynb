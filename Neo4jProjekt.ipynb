{
  "nbformat": 4,
  "nbformat_minor": 0,
  "metadata": {
    "colab": {
      "provenance": []
    },
    "kernelspec": {
      "name": "python3",
      "display_name": "Python 3"
    },
    "language_info": {
      "name": "python"
    }
  },
  "cells": [
    {
      "cell_type": "markdown",
      "source": [
        "# Neo4j modul telepítése és csatlakozás az adatbázishoz"
      ],
      "metadata": {
        "id": "rFrrjy_pEjVy"
      }
    },
    {
      "cell_type": "code",
      "source": [
        "# Telepítése\n",
        "!pip install neo4j"
      ],
      "metadata": {
        "colab": {
          "base_uri": "https://localhost:8080/"
        },
        "id": "Wt5NZXecsGXr",
        "outputId": "b3ce33ad-db1f-4525-818f-6a642ba85244"
      },
      "execution_count": 1,
      "outputs": [
        {
          "output_type": "stream",
          "name": "stdout",
          "text": [
            "Collecting neo4j\n",
            "  Downloading neo4j-5.20.0.tar.gz (202 kB)\n",
            "\u001b[?25l     \u001b[90m━━━━━━━━━━━━━━━━━━━━━━━━━━━━━━━━━━━━━━━━\u001b[0m \u001b[32m0.0/203.0 kB\u001b[0m \u001b[31m?\u001b[0m eta \u001b[36m-:--:--\u001b[0m\r\u001b[2K     \u001b[91m━━━━━━━━━━━━━━\u001b[0m\u001b[90m╺\u001b[0m\u001b[90m━━━━━━━━━━━━━━━━━━━━━━━━━\u001b[0m \u001b[32m71.7/203.0 kB\u001b[0m \u001b[31m2.0 MB/s\u001b[0m eta \u001b[36m0:00:01\u001b[0m\r\u001b[2K     \u001b[90m━━━━━━━━━━━━━━━━━━━━━━━━━━━━━━━━━━━━━━━━\u001b[0m \u001b[32m203.0/203.0 kB\u001b[0m \u001b[31m2.7 MB/s\u001b[0m eta \u001b[36m0:00:00\u001b[0m\n",
            "\u001b[?25h  Installing build dependencies ... \u001b[?25l\u001b[?25hdone\n",
            "  Getting requirements to build wheel ... \u001b[?25l\u001b[?25hdone\n",
            "  Installing backend dependencies ... \u001b[?25l\u001b[?25hdone\n",
            "  Preparing metadata (pyproject.toml) ... \u001b[?25l\u001b[?25hdone\n",
            "Requirement already satisfied: pytz in /usr/local/lib/python3.10/dist-packages (from neo4j) (2023.4)\n",
            "Building wheels for collected packages: neo4j\n",
            "  Building wheel for neo4j (pyproject.toml) ... \u001b[?25l\u001b[?25hdone\n",
            "  Created wheel for neo4j: filename=neo4j-5.20.0-py3-none-any.whl size=280771 sha256=23d06807b1edca5fc931a86b4039743d65ffbb3db11fb022a4edcabfb2277aad\n",
            "  Stored in directory: /root/.cache/pip/wheels/cb/12/66/764554d079caad4b9a11a02cfc0d200dd876d12935b9cf7e64\n",
            "Successfully built neo4j\n",
            "Installing collected packages: neo4j\n",
            "Successfully installed neo4j-5.20.0\n"
          ]
        }
      ]
    },
    {
      "cell_type": "code",
      "source": [
        "# Importálás\n",
        "from neo4j import GraphDatabase, Driver, Session, Result, basic_auth"
      ],
      "metadata": {
        "id": "vGZBFF5J12_h"
      },
      "execution_count": 2,
      "outputs": []
    },
    {
      "cell_type": "markdown",
      "source": [
        "## Csatlakozás megvalósítása osztállyal\n",
        "\n",
        "- Neo4j instance elérése\n",
        "- Autentikáció\n",
        "- Cypyher query futtatása"
      ],
      "metadata": {
        "id": "gxWXPrv8mnas"
      }
    },
    {
      "cell_type": "code",
      "source": [
        "# Connection osztály\n",
        "class Neo4jConnection:\n",
        "  # Dunder methods\n",
        "  def __init__(self, uri: str, user: str, password: str):\n",
        "    \"\"\"\n",
        "    Instantiate a new Neo4jConnection objection with the specified values and try to establish connection.\n",
        "\n",
        "    :param str uri: The connection URI used for the driver.\n",
        "    :param str user: The username used for atuhenticating the connection.\n",
        "    :param str password: The password used for authenticating the connection.\n",
        "    \"\"\"\n",
        "    # Create attributes with default values and type hints\n",
        "    self.__uri: str = ''\n",
        "    self.__user: str = ''\n",
        "    self.__password: str = ''\n",
        "    self.__driver = None\n",
        "\n",
        "    # Create driver and connect to instance\n",
        "    self.connect(uri, user, password)\n",
        "\n",
        "  def __del__(self):\n",
        "    \"\"\"\n",
        "    Close existing connections before destroying the Neo4jCOnnection object.\n",
        "    \"\"\"\n",
        "    self.close()\n",
        "\n",
        "  # Getter and setter functions\n",
        "  def __getUri(self):\n",
        "    return self.__uri\n",
        "\n",
        "  def __getUser(self):\n",
        "    return self.__user\n",
        "\n",
        "  def __getPassword(self):\n",
        "    return self.__password\n",
        "\n",
        "  def __getAuth(self):\n",
        "    return (self.__getUser(), self.__getPassword())\n",
        "\n",
        "  def __setUri(self, value: str):\n",
        "    self.__uri = value\n",
        "\n",
        "  def __setUser(self, value: str):\n",
        "    self.__user = value\n",
        "\n",
        "  def __setPassword(self, value: str):\n",
        "    self.__password = value\n",
        "\n",
        "  # Properties\n",
        "  URI: str = property(__getUri, __setUri)\n",
        "  \"\"\"\n",
        "  Unified Resource Identifier used for driver connection.\n",
        "  \"\"\"\n",
        "  User: str = property(__getUser, __setUser)\n",
        "  \"\"\"\n",
        "  The username used for authentication.\n",
        "  \"\"\"\n",
        "  Password: str = property(__getPassword, __setPassword)\n",
        "  \"\"\"\n",
        "  The password used for authentication.\n",
        "  \"\"\"\n",
        "  Auth: tuple[str, str] = property(__getAuth)\n",
        "  \"\"\"\n",
        "  Authentication details (username and password).\n",
        "  \"\"\"\n",
        "\n",
        "\n",
        "  def connect(self, uri: str = ..., user: str = ..., password: str = ...):\n",
        "    \"\"\"\n",
        "    Create a Neo4j driver and connect to an instance.\n",
        "\n",
        "    :param str uri: The connection URI used for the driver.\n",
        "    :param str user: The username used for atuhenticating the connection.\n",
        "    :param str password: The password used for authenticating the connection.\n",
        "    \"\"\"\n",
        "    # Check if any parameters were passed\n",
        "    self.URI = (uri if uri is not Ellipsis else self.URI)\n",
        "    self.User = (user if user is not Ellipsis else self.User)\n",
        "    self.Password = (password if password is not Ellipsis else self.Password)\n",
        "\n",
        "    try:\n",
        "      # Establish connection and authenticate\n",
        "      self.__driver: Driver = GraphDatabase.driver(\n",
        "          self.URI,\n",
        "          auth=basic_auth(self.User, self.Password)\n",
        "      )\n",
        "\n",
        "    except Exception as e:\n",
        "      # Catch any errors\n",
        "      print(\"Failed to establish connection.\\n\", e)\n",
        "\n",
        "  def close(self):\n",
        "    \"\"\"\n",
        "    Close the driver's connection to the instance.\n",
        "    \"\"\"\n",
        "    if self.__driver is not None: self.__driver.close()\n",
        "\n",
        "  def run(self, query:str, database: str = ..., **kwargs):\n",
        "    \"\"\"\n",
        "    Run a Cypher query on the estalbished connetion.\n",
        "    \"\"\"\n",
        "    # Declare variables with type hints\n",
        "    session: Session = None\n",
        "    result: list = []\n",
        "\n",
        "    try:\n",
        "      # Check if the driver is working as intended\n",
        "      assert self.__driver is not None, \"Driver is not instantiated!\"\n",
        "      self.__driver.verify_connectivity()\n",
        "      self.__driver.verify_authentication()\n",
        "\n",
        "      session = self.__driver.session(database=database) if database is not Ellipsis else self.__driver.session()\n",
        "      print(f\"Running query: \\\"{query}\\\"\")\n",
        "      result = list(session.run(query))\n",
        "\n",
        "    except Exception as e:\n",
        "      # Catch any errors\n",
        "      print(\"An exception occured when trying to communicate with the server.\\n\", e)\n",
        "\n",
        "    finally:\n",
        "      if session is not None: session.close()\n",
        "\n",
        "    return result"
      ],
      "metadata": {
        "id": "ZeFYKihns9Fr"
      },
      "execution_count": 3,
      "outputs": []
    },
    {
      "cell_type": "markdown",
      "source": [
        "## Csatlakozás tesztelése\n",
        "\n",
        "Movies adatbázis letöltése és importálása"
      ],
      "metadata": {
        "id": "M71PH282nLIi"
      }
    },
    {
      "cell_type": "code",
      "source": [
        "# Kapcsoldás az instance-hez\n",
        "connection = Neo4jConnection(\n",
        "    \"neo4j+s://7434ddc8.databases.neo4j.io\",\n",
        "    \"neo4j\",\n",
        "    \"7AbyO-0c0otDDCvC9_CLYFWs_fTOd8fNsjj24RnuvTg\",\n",
        ")"
      ],
      "metadata": {
        "id": "_iBN32NiAp8R"
      },
      "execution_count": 4,
      "outputs": []
    },
    {
      "cell_type": "code",
      "source": [
        "# Movies adatbázis letöltése: https://raw.githubusercontent.com/DominikSebe/Adatbazis_projekt2/main/movies.cypher\n",
        "!wget https://raw.githubusercontent.com/DominikSebe/Adatbazis_projekt2/main/movies.cypher -O movies.cypher"
      ],
      "metadata": {
        "colab": {
          "base_uri": "https://localhost:8080/"
        },
        "id": "zfyahfNhmQYI",
        "outputId": "d9a9d286-381d-40cb-d77e-ae73dea06fac"
      },
      "execution_count": 5,
      "outputs": [
        {
          "output_type": "stream",
          "name": "stdout",
          "text": [
            "--2024-05-05 11:41:02--  https://raw.githubusercontent.com/DominikSebe/Adatbazis_projekt2/main/movies.cypher\n",
            "Resolving raw.githubusercontent.com (raw.githubusercontent.com)... 185.199.108.133, 185.199.109.133, 185.199.110.133, ...\n",
            "Connecting to raw.githubusercontent.com (raw.githubusercontent.com)|185.199.108.133|:443... connected.\n",
            "HTTP request sent, awaiting response... 200 OK\n",
            "Length: 40596 (40K) [text/plain]\n",
            "Saving to: ‘movies.cypher’\n",
            "\n",
            "\rmovies.cypher         0%[                    ]       0  --.-KB/s               \rmovies.cypher       100%[===================>]  39.64K  --.-KB/s    in 0.003s  \n",
            "\n",
            "2024-05-05 11:41:02 (11.6 MB/s) - ‘movies.cypher’ saved [40596/40596]\n",
            "\n"
          ]
        }
      ]
    },
    {
      "cell_type": "code",
      "source": [
        "# Movies adatbázis létrehozása\n",
        "with open('/content/movies.cypher', 'r') as cypher:\n",
        "  for query in filter(lambda s: s.strip() != '', cypher.readlines()):\n",
        "    connection.run(query.strip())"
      ],
      "metadata": {
        "id": "qbVcKsosng8t"
      },
      "execution_count": null,
      "outputs": []
    }
  ]
}